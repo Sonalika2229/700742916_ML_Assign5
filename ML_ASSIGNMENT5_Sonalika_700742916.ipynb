{
  "nbformat": 4,
  "nbformat_minor": 0,
  "metadata": {
    "colab": {
      "provenance": []
    },
    "kernelspec": {
      "name": "python3",
      "display_name": "Python 3"
    },
    "language_info": {
      "name": "python"
    }
  },
  "cells": [
    {
      "cell_type": "markdown",
      "source": [
        "Question1:\n",
        "Principal Component Analysis\n",
        "a. Apply PCA on CC dataset.\n",
        "b. Apply k-means algorithm on the PCA result and report your observation if the silhouette score has\n",
        "improved or not?\n",
        "c. Perform Scaling+PCA+K-Means and report performance."
      ],
      "metadata": {
        "id": "oBYV9_vzYrTQ"
      }
    },
    {
      "cell_type": "code",
      "source": [
        "import pandas as pd\n",
        "from sklearn.preprocessing import StandardScaler\n",
        "from sklearn.cluster import KMeans\n",
        "from sklearn.metrics import silhouette_score\n",
        "from sklearn.decomposition import PCA\n",
        "import warnings\n",
        "warnings.filterwarnings(\"ignore\")\n",
        "from sklearn.model_selection import train_test_split\n",
        "from sklearn.metrics import accuracy_score\n",
        "from sklearn.svm import SVC\n",
        "import matplotlib.pyplot as plt\n",
        "from sklearn.discriminant_analysis import LinearDiscriminantAnalysis\n",
        "import numpy as np\n",
        "from sklearn.datasets import load_iris\n",
        "\n",
        "\n",
        "\n",
        "\n",
        "\n",
        "\n",
        "\n"
      ],
      "metadata": {
        "id": "DazEl_35cxqY"
      },
      "execution_count": null,
      "outputs": []
    },
    {
      "cell_type": "code",
      "source": [
        "#Apply PCA on CC General data set\n",
        "\n",
        "# Load the dataset\n",
        "data = pd.read_csv('/content/drive/MyDrive/Mldataset/CC GENERAL.csv')\n",
        "# Drop the categorical columns and ID column \n",
        "data = data.drop(['CUST_ID', 'TENURE'], axis=1)\n",
        "# Filling the missing values with mean of respective column\n",
        "data = data.fillna(data.mean())\n",
        "\n",
        "# Scale the data\n",
        "scale = StandardScaler()\n",
        "cc_scale = scale.fit_transform(data)\n",
        "\n",
        "# Initialize PCA model \n",
        "pca = PCA(n_components=2)\n",
        "\n",
        "# Fit and transform the data using PCA\n",
        "cc_pca = pca.fit_transform(cc_scale)\n",
        "\n",
        "# Print the explained variance ratio\n",
        "print('Explained variance ratio:', pca.explained_variance_ratio_)\n",
        "\n",
        "# Create a new dataframe with the transformed data\n",
        "cc_pca_df_new = pd.DataFrame(data=cc_pca, columns=['PC1', 'PC2'])\n",
        "\n",
        "# Print the transformed data\n",
        "print('Transformed data:', cc_pca_df_new.head())"
      ],
      "metadata": {
        "colab": {
          "base_uri": "https://localhost:8080/"
        },
        "id": "Pjzo450aYygZ",
        "outputId": "33a90414-9e87-46b8-9662-aab32691337c"
      },
      "execution_count": null,
      "outputs": [
        {
          "output_type": "stream",
          "name": "stdout",
          "text": [
            "Explained variance ratio: [0.28845814 0.21570572]\n",
            "Transformed data:         PC1       PC2\n",
            "0 -1.718893 -1.072939\n",
            "1 -1.169304  2.509314\n",
            "2  0.938413 -0.382598\n",
            "3 -0.907502  0.045857\n",
            "4 -1.637830 -0.684974\n"
          ]
        }
      ]
    },
    {
      "cell_type": "code",
      "source": [
        "#Calculating the silhouette score without applying the PCA.\n",
        "\n",
        "# Load the dataset\n",
        "data = pd.read_csv('/content/drive/MyDrive/Mldataset/CC GENERAL.csv')\n",
        "# Drops the categorical columns and ID column if they are present\n",
        "data = data.drop(['CUST_ID', 'TENURE'], axis=1)\n",
        "\n",
        "# Fill any missing values with mean of each column\n",
        "data = data.fillna(data.mean())\n",
        "\n",
        "# Scale the data \n",
        "scale = StandardScaler()\n",
        "cc_scale = scale.fit_transform(data)\n",
        "\n",
        "# Initializing the k-means model \n",
        "k_means = KMeans(n_clusters=2)\n",
        "\n",
        "# Fit the k-means model to scaled data\n",
        "k_means.fit(cc_scale)\n",
        "\n",
        "# Calculating the silhouette value of the clustered data\n",
        "silhouette_val = silhouette_score(cc_scale, k_means.labels_)\n",
        "\n",
        "# Print the silhouette score\n",
        "print('Silhouette score:', silhouette_val)"
      ],
      "metadata": {
        "colab": {
          "base_uri": "https://localhost:8080/"
        },
        "id": "dQ0Q9ZobbpFC",
        "outputId": "23d48985-978c-42b8-9538-137f0cf44042"
      },
      "execution_count": null,
      "outputs": [
        {
          "output_type": "stream",
          "name": "stdout",
          "text": [
            "Silhouette score: 0.22590596639304975\n"
          ]
        }
      ]
    },
    {
      "cell_type": "code",
      "source": [
        "#Calculating silhouette score applying pca\n",
        "# Load the dataset\n",
        "\n",
        "data = pd.read_csv('/content/drive/MyDrive/Mldataset/CC GENERAL.csv')\n",
        "\n",
        "# Drop the categorical columns and ID column if they are present\n",
        "\n",
        "data = data.drop(['CUST_ID', 'TENURE'], axis=1)\n",
        "\n",
        "# Fill any missing values with mean of each column\n",
        "\n",
        "data = data.fillna(data.mean())\n",
        "\n",
        "# Scale the data\n",
        "\n",
        "scale = StandardScaler()\n",
        "\n",
        "cc_scale = scale.fit_transform(data)\n",
        "\n",
        "# Initialize PCA model\n",
        "\n",
        "pca = PCA(n_components=2)\n",
        "\n",
        "# Fit and transform the data using PCA\n",
        "\n",
        "cc_pca = pca.fit_transform(cc_scale)\n",
        "\n",
        "# Initialize k-means model \n",
        "\n",
        "kmeans = KMeans(n_clusters=2)\n",
        "\n",
        "# Fit the k-means model on the PCA transformed data\n",
        "\n",
        "kmeans.fit(cc_pca)\n",
        "\n",
        "# Calculating the silhouette score of the clustered data\n",
        "\n",
        "silhouette_val = silhouette_score(cc_pca, kmeans.labels_)\n",
        "# Print the silhouette score\n",
        "\n",
        "print('Silhouette score:', silhouette_val)"
      ],
      "metadata": {
        "colab": {
          "base_uri": "https://localhost:8080/"
        },
        "id": "M66HjYnWg_9D",
        "outputId": "695d950c-5709-4556-badb-6e2113ece8a9"
      },
      "execution_count": null,
      "outputs": [
        {
          "output_type": "stream",
          "name": "stdout",
          "text": [
            "Silhouette score: 0.46720635801791466\n"
          ]
        }
      ]
    },
    {
      "cell_type": "code",
      "source": [
        "#Perform Scaling+PCA+K-Means and report performance with 2 clusters\n",
        "# Load the dataset\n",
        "\n",
        "data = pd.read_csv('/content/drive/MyDrive/Mldataset/CC GENERAL.csv')\n",
        "\n",
        "# Drop the categorical columns and ID column \n",
        "\n",
        "data = data.drop(['CUST_ID', 'TENURE'], axis=1)\n",
        "\n",
        "# Fill any missing values with mean of each column\n",
        "\n",
        "data = data.fillna(data.mean())\n",
        "\n",
        "# Scale the data \n",
        "scale = StandardScaler()\n",
        "cc_scale = scale.fit_transform(data)\n",
        "\n",
        "# Apply PCA\n",
        "pca = PCA(n_components=2)\n",
        "cc_pca = pca.fit_transform(cc_scale)\n",
        "\n",
        "# Initialize k-means model \n",
        "kmeans = KMeans(n_clusters=2)\n",
        "\n",
        "# Fit the k-means model on the PCA data\n",
        "kmeans.fit(cc_pca)\n",
        "\n",
        "# Calculate the silhouette value of the clustered data\n",
        "silhouette_value = silhouette_score(cc_pca, kmeans.labels_)\n",
        "\n",
        "# Print the silhouette score\n",
        "print('Silhouette score:', silhouette_value)"
      ],
      "metadata": {
        "colab": {
          "base_uri": "https://localhost:8080/"
        },
        "id": "LfBKcj5hiq6G",
        "outputId": "5f630b7d-d74e-4473-ec8e-e2f743837efd"
      },
      "execution_count": null,
      "outputs": [
        {
          "output_type": "stream",
          "name": "stdout",
          "text": [
            "Silhouette score: 0.46318933568854204\n"
          ]
        }
      ]
    },
    {
      "cell_type": "code",
      "source": [
        "#Perform Scaling+PCA+K-Means and report performance with 3 clusters in kmeans\n",
        "# Load the dataset\n",
        "data = pd.read_csv('/content/drive/MyDrive/Mldataset/CC GENERAL.csv')\n",
        "\n",
        "# Drop the categorical columns and ID column \n",
        "\n",
        "data = data.drop(['CUST_ID', 'TENURE'], axis=1)\n",
        "\n",
        "# Fill any missing values with mean of each column\n",
        "data = data.fillna(data.mean())\n",
        "\n",
        "# Scale the data \n",
        "scale = StandardScaler()\n",
        "\n",
        "cc_scale = scale.fit_transform(data)\n",
        "\n",
        "# Apply PCA\n",
        "pca = PCA(n_components=2)\n",
        "\n",
        "cc_pca = pca.fit_transform(cc_scale)\n",
        "\n",
        "# Initialize k-means model \n",
        "\n",
        "kmeans = KMeans(n_clusters=3, random_state=42)\n",
        "\n",
        "# Fit the k-means model on the PCA data\n",
        "\n",
        "kmeans.fit(cc_pca)\n",
        "\n",
        "# Calculate the silhouette score of the clustered data\n",
        "\n",
        "silhouette_value = silhouette_score(cc_pca, kmeans.labels_)\n",
        "\n",
        "# Print the silhouette score\n",
        "print('Silhouette score:', silhouette_value)"
      ],
      "metadata": {
        "colab": {
          "base_uri": "https://localhost:8080/"
        },
        "id": "OxlDzZqNoBrv",
        "outputId": "92d8ccaa-a9b5-4a6b-91ef-a00e011952f5"
      },
      "execution_count": null,
      "outputs": [
        {
          "output_type": "stream",
          "name": "stdout",
          "text": [
            "Silhouette score: 0.4533202481766401\n"
          ]
        }
      ]
    },
    {
      "cell_type": "markdown",
      "source": [
        "Question2:\n",
        "Use pd_speech_features.csv\n",
        "a. Perform Scaling\n",
        "b. Apply PCA (k=3)\n",
        "c. Use SVM to report performance"
      ],
      "metadata": {
        "id": "fjUFrChG0vhT"
      }
    },
    {
      "cell_type": "code",
      "source": [
        "#Using pd_speech_features.csv to perform scaling\n",
        "# Load the dataset\n",
        "\n",
        "data = pd.read_csv('/content/drive/MyDrive/Mldataset/pd_speech_features.csv')\n",
        "\n",
        "# Splitting  the data into features and target variable\n",
        "\n",
        "N = data.iloc[:, 1:-1]\n",
        "y = data.iloc[:, -1]\n",
        "\n",
        "# Standardizing the features\n",
        "scale = StandardScaler()\n",
        "N_std = scale.fit_transform(N)\n",
        "\n",
        "# Created the new dataframe \n",
        "std_df = pd.DataFrame(N_std, columns=N.columns)\n",
        "\n",
        "# Adding the target variable \n",
        "\n",
        "std_df['Target'] = y\n",
        "\n",
        "# Visualizing the standardized data\n",
        "\n",
        "print(std_df.head())"
      ],
      "metadata": {
        "colab": {
          "base_uri": "https://localhost:8080/"
        },
        "id": "Dl6dW8sg1QLx",
        "outputId": "e6087625-a22b-4683-ccaa-3f36e8cd508b"
      },
      "execution_count": null,
      "outputs": [
        {
          "output_type": "stream",
          "name": "stdout",
          "text": [
            "     gender       PPE       DFA      RPDE  numPulses  numPeriodsPulses  \\\n",
            "0  0.968742  0.627644  0.256144  0.605835  -0.846892         -0.842373   \n",
            "1  0.968742  0.121620 -0.080433  0.368415  -0.907404         -0.902773   \n",
            "2  0.968742  0.617950 -0.349839  0.733609  -0.927575         -0.922907   \n",
            "3 -1.032266 -1.980560  1.382279  0.753631  -1.472186         -1.466513   \n",
            "4 -1.032266 -2.472989  1.398068  0.300123  -0.887233         -0.882640   \n",
            "\n",
            "   meanPeriodPulses  stdDevPeriodPulses  locPctJitter  locAbsJitter  ...  \\\n",
            "0          0.933328           -0.407251     -0.054993      0.037843  ...   \n",
            "1          1.040014           -0.426092     -0.142570     -0.027698  ...   \n",
            "2          1.084576           -0.443557     -0.214916     -0.088871  ...   \n",
            "3          2.464215           -0.275316      0.710353      1.256919  ...   \n",
            "4          0.987044            3.143597      1.152045      1.178269  ...   \n",
            "\n",
            "   tqwt_kurtosisValue_dec_28  tqwt_kurtosisValue_dec_29  \\\n",
            "0                  -0.584822                  -0.619412   \n",
            "1                  -0.584895                  -0.589778   \n",
            "2                  -0.584767                  -0.629033   \n",
            "3                  -0.532242                  -0.591137   \n",
            "4                  -0.475545                  -0.521356   \n",
            "\n",
            "   tqwt_kurtosisValue_dec_30  tqwt_kurtosisValue_dec_31  \\\n",
            "0                  -0.576762                  -0.482286   \n",
            "1                   0.193084                   0.016183   \n",
            "2                  -0.356261                  -0.156055   \n",
            "3                  -0.522406                   0.008400   \n",
            "4                  -0.490090                  -0.404833   \n",
            "\n",
            "   tqwt_kurtosisValue_dec_32  tqwt_kurtosisValue_dec_33  \\\n",
            "0                  -0.399331                  -0.484533   \n",
            "1                  -0.067120                  -0.175566   \n",
            "2                  -0.067593                  -0.463462   \n",
            "3                  -0.449894                  -0.470865   \n",
            "4                  -0.249678                  -0.042021   \n",
            "\n",
            "   tqwt_kurtosisValue_dec_34  tqwt_kurtosisValue_dec_35  \\\n",
            "0                  -0.775137                  -0.814727   \n",
            "1                  -0.526647                  -0.582972   \n",
            "2                  -0.756063                  -0.804390   \n",
            "3                  -0.633475                  -0.588387   \n",
            "4                  -0.419354                  -0.672216   \n",
            "\n",
            "   tqwt_kurtosisValue_dec_36  Target  \n",
            "0                  -0.366595       1  \n",
            "1                   0.400396       1  \n",
            "2                  -0.780935       1  \n",
            "3                  -0.801583       1  \n",
            "4                  -0.741477       1  \n",
            "\n",
            "[5 rows x 754 columns]\n"
          ]
        }
      ]
    },
    {
      "cell_type": "code",
      "source": [
        "# Apply PCA (k=3)\n",
        "\n",
        "# Load the dataset\n",
        "data = pd.read_csv('/content/drive/MyDrive/Mldataset/pd_speech_features.csv')\n",
        "\n",
        "# Splitting the data into features and target variable\n",
        "\n",
        "N = data.iloc[:, 1:-1]\n",
        "y = data.iloc[:, -1]\n",
        "\n",
        "# Standardize the features\n",
        "\n",
        "scale = StandardScaler()\n",
        "N_std = scale.fit_transform(N)\n",
        "\n",
        "# Create a PCA object \n",
        "\n",
        "pca = PCA(n_components=3)\n",
        "\n",
        "# Fit the PCA model on the standardized data\n",
        "\n",
        "pca.fit(N_std)\n",
        "\n",
        "# Transform the data to the new coordinate system\n",
        "\n",
        "N_pca = pca.transform(N_std)\n",
        "\n",
        "# Visualize the explained variance ratio \n",
        "print(\"Explained Variance Ratio:\", pca.explained_variance_ratio_)\n",
        "\n",
        "# Created a new dataframe with the transformed data\n",
        "\n",
        "pca_df = pd.DataFrame(data=N_pca, columns=['PC1', 'PC2', 'PC3'])\n",
        "\n",
        "# Add the target variable to the new dataframe\n",
        "\n",
        "pca_df['Target'] = y\n",
        "\n",
        "# Visualize the transformed data\n",
        "\n",
        "print(pca_df.head())"
      ],
      "metadata": {
        "colab": {
          "base_uri": "https://localhost:8080/"
        },
        "id": "5tk_WAgH3VU8",
        "outputId": "54a33655-1f35-46c8-fc95-2d88006cd34d"
      },
      "execution_count": null,
      "outputs": [
        {
          "output_type": "stream",
          "name": "stdout",
          "text": [
            "Explained Variance Ratio: [0.12961998 0.09390046 0.08252524]\n",
            "         PC1       PC2        PC3  Target\n",
            "0 -10.034309  1.473186  -6.836298       1\n",
            "1 -10.624667  1.585847  -6.820881       1\n",
            "2 -13.503155 -1.251541  -6.809195       1\n",
            "3  -9.143503  8.834664  15.302886       1\n",
            "4  -6.752753  4.612583  15.649158       1\n"
          ]
        }
      ]
    },
    {
      "cell_type": "code",
      "source": [
        "#Use SVM to report performance\n",
        "# Load the dataset\n",
        "data = pd.read_csv('/content/drive/MyDrive/Mldataset/pd_speech_features.csv')\n",
        "\n",
        "# Split the data into features and target variable\n",
        "X = data.iloc[:, 1:-1]\n",
        "y = data.iloc[:, -1]\n",
        "\n",
        "# Standardize the features\n",
        "scale = StandardScaler()\n",
        "X_std = scale.fit_transform(X)\n",
        "\n",
        "# Creating a PCA object\n",
        "pca = PCA(n_components=3)\n",
        "\n",
        "# Fit the PCA model \n",
        "pca.fit(X_std)\n",
        "\n",
        "# Transform the data \n",
        "X_pca = pca.transform(X_std)\n",
        "\n",
        "# Splitting the transformed data into training and testing sets\n",
        "X_train, X_test, y_train, y_test = train_test_split(X_pca, y, test_size=0.3, random_state=42)\n",
        "\n",
        "# Creating an Support vector machine object with a linear kernel\n",
        "SVM = SVC(kernel='linear', random_state=42)\n",
        "\n",
        "# Fit the SVM model \n",
        "SVM.fit(X_train, y_train)\n",
        "\n",
        "# Predictting the target variable for the testing data\n",
        "y_pred = SVM.predict(X_test)\n",
        "\n",
        "# finding the accuracy of the model\n",
        "accuracy = accuracy_score(y_test, y_pred)\n",
        "\n",
        "# Print the accuracy of the model\n",
        "print(\"Accuracy:\", accuracy)"
      ],
      "metadata": {
        "colab": {
          "base_uri": "https://localhost:8080/"
        },
        "id": "d1YX3qyX5VmR",
        "outputId": "8a8314c9-668f-4057-89a2-c5b80ff80715"
      },
      "execution_count": null,
      "outputs": [
        {
          "output_type": "stream",
          "name": "stdout",
          "text": [
            "Accuracy: 0.775330396475771\n"
          ]
        }
      ]
    },
    {
      "cell_type": "markdown",
      "source": [
        "Question-3:\n",
        "Apply Linear Discriminant Analysis (LDA) on Iris.csv dataset to reduce dimensionality of data to k=2"
      ],
      "metadata": {
        "id": "daRd8MAZFRZJ"
      }
    },
    {
      "cell_type": "code",
      "source": [
        "# Load the dataset\n",
        "data = pd.read_csv('/content/drive/MyDrive/Mldataset/Iris.csv')\n",
        "\n",
        "# Splitting the data into the features and target variable\n",
        "X = data.iloc[:, :-1]\n",
        "y = data.iloc[:, -1]\n",
        "\n",
        "# Converting the target variable into numeric format\n",
        "y = pd.factorize(data.iloc[:, -1])[0]\n",
        "\n",
        "# Create an LDA object\n",
        "lda = LinearDiscriminantAnalysis(n_components=2)\n",
        "\n",
        "# Fit the LDA model on the data \n",
        "#and transform the data to the new coordinate system\n",
        "\n",
        "X_lda = lda.fit_transform(X, y)\n",
        "\n",
        "# Plot the transformed data in a scatter plot, coloring points by target variable\n",
        "plt.scatter(X_lda[:, 0], X_lda[:, 1], c=y, cmap='viridis')\n",
        "plt.xlabel('Discriminant Component 1')\n",
        "plt.ylabel('Discriminant Component 2')\n",
        "plt.show()\n"
      ],
      "metadata": {
        "colab": {
          "base_uri": "https://localhost:8080/",
          "height": 450
        },
        "id": "bp8is0ibFbyY",
        "outputId": "2626894e-cbbd-4bf7-e000-c06bab1d8dc0"
      },
      "execution_count": null,
      "outputs": [
        {
          "output_type": "display_data",
          "data": {
            "text/plain": [
              "<Figure size 640x480 with 1 Axes>"
            ],
            "image/png": "[encoded data removed]"
          },
          "metadata": {}
        }
      ]
    },
    {
      "cell_type": "markdown",
      "source": [
        "Question-4:Briefly identify the difference between PCA and LDA"
      ],
      "metadata": {
        "id": "oaOiCj9NJHaS"
      }
    },
    {
      "cell_type": "code",
      "source": [
        "# Load the iris dataset\n",
        "iris = load_iris()\n",
        "X = iris.data\n",
        "y = iris.target\n",
        "targetnames = iris.target_names\n",
        "\n",
        "# Scale the features \n",
        "scale = StandardScaler()\n",
        "X_scaled = scale.fit_transform(X)\n",
        "\n",
        "# Applying PCA with k=2\n",
        "pca = PCA(n_components=2)\n",
        "X_pca = pca.fit_transform(X_scaled)\n",
        "\n",
        "# Applying LDA with k=2\n",
        "lda = LinearDiscriminantAnalysis(n_components=2)\n",
        "X_lda = lda.fit_transform(X_scaled, y)\n",
        "\n",
        "# Plot the results\n",
        "plt.figure(figsize=(10, 5))\n",
        "plt.subplot(121)\n",
        "for i, target_name in enumerate(targetnames):\n",
        "    plt.scatter(X_pca[y == i, 0], X_pca[y == i, 1], label=target_name)\n",
        "plt.xlabel('PC1')\n",
        "plt.ylabel('PC2')\n",
        "plt.title('PCA')\n",
        "plt.legend()\n",
        "\n",
        "plt.subplot(122)\n",
        "for i, target_name in enumerate(targetnames):\n",
        "    plt.scatter(X_lda[y == i, 0], X_lda[y == i, 1], label=target_name)\n",
        "plt.xlabel('LD1')\n",
        "plt.ylabel('LD2')\n",
        "plt.title('LDA')\n",
        "plt.legend()\n",
        "\n",
        "plt.show()"
      ],
      "metadata": {
        "colab": {
          "base_uri": "https://localhost:8080/",
          "height": 487
        },
        "id": "GkFCG3lbJawc",
        "outputId": "a2423f1d-6bd9-450e-c117-c9776ef3828a"
      },
      "execution_count": null,
      "outputs": [
        {
          "output_type": "display_data",
          "data": {
            "text/plain": [
              "<Figure size 1000x500 with 2 Axes>"
            ],
            "image/png": "[encoded data removed]"
          },
          "metadata": {}
        }
      ]
    },
    {
      "cell_type": "code",
      "source": [],
      "metadata": {
        "id": "hW-bqhB1KXWQ"
      },
      "execution_count": null,
      "outputs": []
    }
  ]
}